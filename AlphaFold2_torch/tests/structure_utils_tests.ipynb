{
 "cells": [
  {
   "cell_type": "markdown",
   "metadata": {},
   "source": [
    "<center><h2>Testing the Functionality of the <i>\"utils.py\"</i> Module</h2></center>"
   ]
  },
  {
   "cell_type": "code",
   "execution_count": 1,
   "metadata": {
    "collapsed": true
   },
   "outputs": [
    {
     "data": {
      "text/plain": [
       "' Tetsing the following functionality: \\n    * metrics (rmsd, gdt_ts, gdt_ha, tmscore)\\n    * alignment (kabsch)ç\\n    * 3d coords (mds)\\n    -----\\n    The data files used contain the id of the original\\n    crystal structures from the RCSB PDB\\n'"
      ]
     },
     "execution_count": 1,
     "metadata": {},
     "output_type": "execute_result"
    }
   ],
   "source": [
    "\"\"\" Tetsing the following functionality: \n",
    "    * metrics (rmsd, gdt_ts, gdt_ha, tmscore)\n",
    "    * alignment (kabsch)ç\n",
    "    * 3d coords (mds)\n",
    "    -----\n",
    "    The data files used contain the id of the original\n",
    "    crystal structures from the RCSB PDB\n",
    "\"\"\""
   ]
  },
  {
   "cell_type": "code",
   "execution_count": 5,
   "metadata": {},
   "outputs": [],
   "source": [
    "import os\n",
    "import sys\n",
    "# science\n",
    "import numpy as np\n",
    "import torch\n",
    "import matplotlib.pyplot as plt\n",
    "# molecular utils\n",
    "import mdtraj\n",
    "# functionality\n",
    "sys.path.append(\"../\")\n",
    "from utils import *"
   ]
  },
  {
   "cell_type": "code",
   "execution_count": 2,
   "metadata": {},
   "outputs": [],
   "source": [
    "# load pdb file\n",
    "prot = mdtraj.load_pdb(\"data/1h22_protein.pdb\").xyz[0].transpose()"
   ]
  },
  {
   "cell_type": "markdown",
   "metadata": {},
   "source": [
    "## Metrics"
   ]
  },
  {
   "cell_type": "code",
   "execution_count": 3,
   "metadata": {},
   "outputs": [],
   "source": [
    "# alter a small amount and measure metrics\n",
    "pred = prot + (2*np.random.rand(*prot.shape) - 1) * 1"
   ]
  },
  {
   "cell_type": "code",
   "execution_count": 4,
   "metadata": {},
   "outputs": [
    {
     "name": "stdout",
     "output_type": "stream",
     "text": [
      "rmsd is:  [0.5765397]\n",
      "gdt_ha is:  [0.64635264]\n",
      "gdt_ts is:  [0.8803458]\n",
      "tm_score is:  [0.99814738]\n",
      "rmsd is:  tensor([0.5765], dtype=torch.float64)\n",
      "gdt_ha is:  tensor([0.6464])\n",
      "gdt_ts is:  tensor([0.8803])\n",
      "tm_score is:  tensor([0.9981], dtype=torch.float64)\n"
     ]
    }
   ],
   "source": [
    "# Numpy\n",
    "rmsd     = RMSD(prot, pred)\n",
    "gdt_ha   = GDT(prot, pred, mode=\"HA\")\n",
    "gdt_ts   = GDT(prot, pred, mode=\"TS\")\n",
    "tm_score = TMscore(prot, pred)\n",
    "\n",
    "print(\"rmsd is: \", rmsd)\n",
    "print(\"gdt_ha is: \", gdt_ha)\n",
    "print(\"gdt_ts is: \", gdt_ts)\n",
    "print(\"tm_score is: \", tm_score)\n",
    "\n",
    "# Torch\n",
    "prot, pred = torch.tensor(prot), torch.tensor(pred)\n",
    "rmsd     = RMSD(prot, pred)\n",
    "gdt_ha   = GDT(prot, pred, mode=\"HA\")\n",
    "gdt_ts   = GDT(prot, pred, mode=\"TS\")\n",
    "tm_score = TMscore(prot, pred)\n",
    "\n",
    "print(\"rmsd is: \", rmsd)\n",
    "print(\"gdt_ha is: \", gdt_ha)\n",
    "print(\"gdt_ts is: \", gdt_ts)\n",
    "print(\"tm_score is: \", tm_score)"
   ]
  },
  {
   "cell_type": "markdown",
   "metadata": {},
   "source": [
    "## Alignment"
   ]
  },
  {
   "cell_type": "code",
   "execution_count": 5,
   "metadata": {},
   "outputs": [],
   "source": [
    "prot = prot.cpu().numpy()\n",
    "pred = pred.cpu().numpy()"
   ]
  },
  {
   "cell_type": "code",
   "execution_count": 6,
   "metadata": {},
   "outputs": [],
   "source": [
    "# rotation matrix\n",
    "R = np.array([[0.25581, -0.77351, 0.57986],\n",
    "              [-0.85333, -0.46255, -0.24057],\n",
    "              [0.45429, -0.43327, -0.77839]])"
   ]
  },
  {
   "cell_type": "code",
   "execution_count": 7,
   "metadata": {},
   "outputs": [],
   "source": [
    "# perturb protein (translation + rotation + random)\n",
    "pred = prot + (2*np.random.rand(*prot.shape) - 1) * 1 \n",
    "pred = np.dot(R, pred)"
   ]
  },
  {
   "cell_type": "code",
   "execution_count": 8,
   "metadata": {},
   "outputs": [
    {
     "data": {
      "text/plain": [
       "(tensor([0.5752], dtype=torch.float64), tensor([0.9982], dtype=torch.float64))"
      ]
     },
     "execution_count": 8,
     "metadata": {},
     "output_type": "execute_result"
    }
   ],
   "source": [
    "# check realignment works - torch\n",
    "pred_mod_, prot_mod_ = Kabsch(torch.tensor(pred).double(), torch.tensor(prot).double())\n",
    "RMSD(prot_mod_, pred_mod_), TMscore(prot_mod_, pred_mod_)"
   ]
  },
  {
   "cell_type": "code",
   "execution_count": 9,
   "metadata": {},
   "outputs": [
    {
     "data": {
      "text/plain": [
       "(array([0.57522491]), array([0.99815585]))"
      ]
     },
     "execution_count": 9,
     "metadata": {},
     "output_type": "execute_result"
    }
   ],
   "source": [
    "# check realignment works - torch\n",
    "pred_mod, prot_mod = Kabsch(pred, prot)\n",
    "RMSD(prot_mod, pred_mod), TMscore(prot_mod, pred_mod)"
   ]
  },
  {
   "cell_type": "markdown",
   "metadata": {},
   "source": [
    "## 3d Converter"
   ]
  },
  {
   "cell_type": "code",
   "execution_count": 10,
   "metadata": {},
   "outputs": [],
   "source": [
    "prot_traj = mdtraj.load_pdb(\"data/1h22_protein.pdb\")"
   ]
  },
  {
   "cell_type": "code",
   "execution_count": 11,
   "metadata": {},
   "outputs": [],
   "source": [
    "prot = prot_traj.xyz[0].transpose()"
   ]
  },
  {
   "cell_type": "code",
   "execution_count": 12,
   "metadata": {},
   "outputs": [],
   "source": [
    "# works with a simple distance matrix for now\n",
    "prot = torch.tensor(prot)\n",
    "distogram = torch.cdist(prot.t(), prot.t())"
   ]
  },
  {
   "cell_type": "code",
   "execution_count": 13,
   "metadata": {},
   "outputs": [],
   "source": [
    "# plt.imshow(distogram, cmap=\"viridis_r\")"
   ]
  },
  {
   "cell_type": "code",
   "execution_count": 14,
   "metadata": {},
   "outputs": [
    {
     "data": {
      "text/plain": [
       "((528,), (529,))"
      ]
     },
     "execution_count": 14,
     "metadata": {},
     "output_type": "execute_result"
    }
   ],
   "source": [
    "# select indices of backbone for angle calculation and selection\n",
    "N_mask  = prot_traj.topology.select(\"name == N and backbone\")\n",
    "CA_mask = prot_traj.topology.select(\"name == CA and backbone\") \n",
    "CA_mask.shape, N_mask.shape"
   ]
  },
  {
   "cell_type": "code",
   "execution_count": 20,
   "metadata": {
    "scrolled": true
   },
   "outputs": [
    {
     "name": "stdout",
     "output_type": "stream",
     "text": [
      "[0, 1, 2]\n",
      "it: 0, stress tensor(1.4235e+08)\n",
      "it: 1, stress tensor(70479592.)\n",
      "it: 2, stress tensor(64633496.)\n",
      "it: 3, stress tensor(61598372.)\n",
      "it: 4, stress tensor(60051312.)\n",
      "it: 5, stress tensor(59241588.)\n",
      "it: 6, stress tensor(58797864.)\n",
      "it: 7, stress tensor(58528040.)\n",
      "it: 8, stress tensor(58334752.)\n",
      "it: 9, stress tensor(58167564.)\n",
      "it: 10, stress tensor(57995224.)\n",
      "it: 11, stress tensor(57794916.)\n",
      "it: 12, stress tensor(57542480.)\n",
      "it: 13, stress tensor(57213924.)\n",
      "it: 14, stress tensor(56780288.)\n",
      "it: 15, stress tensor(56207876.)\n",
      "it: 16, stress tensor(55458128.)\n",
      "it: 17, stress tensor(54489800.)\n",
      "it: 18, stress tensor(53264780.)\n",
      "it: 19, stress tensor(51751944.)\n",
      "it: 20, stress tensor(49938684.)\n",
      "it: 21, stress tensor(47842032.)\n",
      "it: 22, stress tensor(45516776.)\n",
      "it: 23, stress tensor(43045592.)\n",
      "it: 24, stress tensor(40538344.)\n",
      "it: 25, stress tensor(38103564.)\n",
      "it: 26, stress tensor(35831208.)\n",
      "it: 27, stress tensor(33781952.)\n",
      "it: 28, stress tensor(31965546.)\n",
      "it: 29, stress tensor(30383978.)\n",
      "it: 30, stress tensor(29013806.)\n",
      "it: 31, stress tensor(27822502.)\n",
      "it: 32, stress tensor(26772338.)\n",
      "it: 33, stress tensor(25830908.)\n",
      "it: 34, stress tensor(24967182.)\n",
      "it: 35, stress tensor(24152468.)\n",
      "it: 36, stress tensor(23355914.)\n",
      "it: 37, stress tensor(22563740.)\n",
      "it: 38, stress tensor(21764700.)\n",
      "it: 39, stress tensor(20947738.)\n",
      "it: 40, stress tensor(20112718.)\n",
      "it: 41, stress tensor(19261922.)\n",
      "it: 42, stress tensor(18401596.)\n",
      "it: 43, stress tensor(17541660.)\n",
      "it: 44, stress tensor(16695886.)\n",
      "it: 45, stress tensor(15867198.)\n",
      "it: 46, stress tensor(15070109.)\n",
      "it: 47, stress tensor(14315172.)\n",
      "it: 48, stress tensor(13608417.)\n",
      "it: 49, stress tensor(12955385.)\n",
      "it: 50, stress tensor(12359689.)\n",
      "it: 51, stress tensor(11816751.)\n",
      "it: 52, stress tensor(11321480.)\n",
      "it: 53, stress tensor(10875110.)\n",
      "it: 54, stress tensor(10475704.)\n",
      "it: 55, stress tensor(10115711.)\n",
      "it: 56, stress tensor(9793314.)\n",
      "it: 57, stress tensor(9506128.)\n",
      "it: 58, stress tensor(9250533.)\n",
      "it: 59, stress tensor(9022803.)\n",
      "it: 60, stress tensor(8819793.)\n",
      "it: 61, stress tensor(8637908.)\n",
      "it: 62, stress tensor(8474460.)\n",
      "it: 63, stress tensor(8326029.)\n",
      "it: 64, stress tensor(8189812.)\n",
      "it: 65, stress tensor(8065080.)\n",
      "it: 66, stress tensor(7950526.5000)\n",
      "it: 67, stress tensor(7844988.5000)\n",
      "it: 68, stress tensor(7747308.)\n",
      "it: 69, stress tensor(7656564.)\n",
      "it: 70, stress tensor(7571635.5000)\n",
      "it: 71, stress tensor(7491606.5000)\n",
      "it: 72, stress tensor(7415526.)\n",
      "it: 73, stress tensor(7342226.)\n",
      "it: 74, stress tensor(7270941.5000)\n",
      "it: 75, stress tensor(7200939.)\n",
      "it: 76, stress tensor(7131522.5000)\n",
      "it: 77, stress tensor(7061852.)\n",
      "it: 78, stress tensor(6991257.)\n",
      "it: 79, stress tensor(6919039.)\n",
      "it: 80, stress tensor(6844395.)\n",
      "it: 81, stress tensor(6767082.5000)\n",
      "it: 82, stress tensor(6685994.)\n",
      "it: 83, stress tensor(6599573.)\n",
      "it: 84, stress tensor(6507243.5000)\n",
      "it: 85, stress tensor(6407988.)\n",
      "it: 86, stress tensor(6301012.5000)\n",
      "it: 87, stress tensor(6185261.5000)\n",
      "it: 88, stress tensor(6059735.)\n",
      "it: 89, stress tensor(5923172.5000)\n",
      "it: 90, stress tensor(5774508.)\n",
      "it: 91, stress tensor(5612704.5000)\n",
      "it: 92, stress tensor(5436805.)\n",
      "it: 93, stress tensor(5245466.5000)\n",
      "it: 94, stress tensor(5037696.)\n",
      "it: 95, stress tensor(4812583.)\n",
      "it: 96, stress tensor(4570034.)\n",
      "it: 97, stress tensor(4311512.)\n",
      "it: 98, stress tensor(4037657.)\n",
      "it: 99, stress tensor(3751192.)\n",
      "it: 100, stress tensor(3456971.)\n",
      "it: 101, stress tensor(3160068.)\n",
      "it: 102, stress tensor(2863729.5000)\n",
      "it: 103, stress tensor(2574087.5000)\n",
      "it: 104, stress tensor(2295021.5000)\n",
      "it: 105, stress tensor(2028169.6250)\n",
      "it: 106, stress tensor(1776253.3750)\n",
      "it: 107, stress tensor(1543026.2500)\n",
      "it: 108, stress tensor(1330905.)\n",
      "it: 109, stress tensor(1144065.2500)\n",
      "it: 110, stress tensor(982975.3750)\n",
      "it: 111, stress tensor(846493.9375)\n",
      "it: 112, stress tensor(730845.1250)\n",
      "it: 113, stress tensor(631128.)\n",
      "it: 114, stress tensor(543643.0625)\n",
      "it: 115, stress tensor(466414.6250)\n",
      "it: 116, stress tensor(398923.7812)\n",
      "it: 117, stress tensor(340439.0625)\n",
      "it: 118, stress tensor(290134.3125)\n",
      "it: 119, stress tensor(246789.0938)\n",
      "it: 120, stress tensor(209316.1406)\n",
      "it: 121, stress tensor(176692.5312)\n",
      "it: 122, stress tensor(148606.9375)\n",
      "it: 123, stress tensor(124966.6953)\n",
      "it: 124, stress tensor(105185.8438)\n",
      "it: 125, stress tensor(88375.7109)\n",
      "it: 126, stress tensor(73713.4453)\n",
      "it: 127, stress tensor(60480.8086)\n",
      "it: 128, stress tensor(48566.0078)\n",
      "it: 129, stress tensor(38608.9844)\n",
      "it: 130, stress tensor(31239.0781)\n",
      "it: 131, stress tensor(26111.4824)\n",
      "it: 132, stress tensor(22216.4355)\n",
      "it: 133, stress tensor(18655.5605)\n",
      "it: 134, stress tensor(14945.6182)\n",
      "it: 135, stress tensor(11038.2725)\n",
      "it: 136, stress tensor(7382.9990)\n",
      "it: 137, stress tensor(4584.2886)\n",
      "it: 138, stress tensor(2839.4121)\n",
      "it: 139, stress tensor(1839.1179)\n",
      "it: 140, stress tensor(1234.9248)\n",
      "it: 141, stress tensor(843.5553)\n",
      "it: 142, stress tensor(580.3210)\n",
      "it: 143, stress tensor(401.2847)\n",
      "it: 144, stress tensor(278.5339)\n",
      "it: 145, stress tensor(194.4731)\n",
      "it: 146, stress tensor(136.5119)\n",
      "it: 147, stress tensor(96.6035)\n",
      "it: 148, stress tensor(68.8838)\n",
      "it: 149, stress tensor(49.6031)\n",
      "it: 150, stress tensor(36.0734)\n",
      "it: 151, stress tensor(26.5216)\n",
      "it: 152, stress tensor(19.7305)\n",
      "it: 153, stress tensor(14.8486)\n",
      "it: 154, stress tensor(11.3091)\n",
      "it: 155, stress tensor(8.7165)\n",
      "it: 156, stress tensor(6.7906)\n",
      "it: 157, stress tensor(5.3483)\n",
      "it: 158, stress tensor(4.2541)\n",
      "it: 159, stress tensor(3.4132)\n",
      "it: 160, stress tensor(2.7605)\n",
      "it: 161, stress tensor(2.2491)\n",
      "it: 162, stress tensor(1.8439)\n",
      "it: 163, stress tensor(1.5193)\n",
      "it: 164, stress tensor(1.2578)\n",
      "it: 165, stress tensor(1.0459)\n",
      "it: 166, stress tensor(0.8725)\n",
      "it: 167, stress tensor(0.7298)\n",
      "it: 168, stress tensor(0.6121)\n",
      "it: 169, stress tensor(0.5146)\n",
      "it: 170, stress tensor(0.4334)\n",
      "it: 171, stress tensor(0.3656)\n",
      "it: 172, stress tensor(0.3088)\n",
      "it: 173, stress tensor(0.2612)\n",
      "it: 174, stress tensor(0.2212)\n",
      "it: 175, stress tensor(0.1874)\n",
      "it: 176, stress tensor(0.1590)\n",
      "it: 177, stress tensor(0.1350)\n",
      "it: 178, stress tensor(0.1147)\n",
      "it: 179, stress tensor(0.0975)\n",
      "it: 180, stress tensor(0.0830)\n",
      "it: 181, stress tensor(0.0707)\n",
      "it: 182, stress tensor(0.0602)\n",
      "it: 183, stress tensor(0.0513)\n",
      "it: 184, stress tensor(0.0437)\n",
      "it: 185, stress tensor(0.0373)\n",
      "it: 186, stress tensor(0.0319)\n",
      "it: 187, stress tensor(0.0272)\n",
      "it: 188, stress tensor(0.0233)\n",
      "it: 189, stress tensor(0.0199)\n",
      "breaking at iteration 189 with stress tensor(0.0199)\n",
      "it: 0, stress tensor(1.4219e+08)\n",
      "it: 1, stress tensor(70531632.)\n",
      "it: 2, stress tensor(64684804.)\n",
      "it: 3, stress tensor(61652956.)\n",
      "it: 4, stress tensor(60102180.)\n",
      "it: 5, stress tensor(59294188.)\n",
      "it: 6, stress tensor(58852340.)\n",
      "it: 7, stress tensor(58586684.)\n",
      "it: 8, stress tensor(58406896.)\n",
      "it: 9, stress tensor(58263988.)\n",
      "it: 10, stress tensor(58127676.)\n",
      "it: 11, stress tensor(57976216.)\n",
      "it: 12, stress tensor(57790216.)\n",
      "it: 13, stress tensor(57550084.)\n",
      "it: 14, stress tensor(57234312.)\n",
      "it: 15, stress tensor(56814612.)\n",
      "it: 16, stress tensor(56256404.)\n",
      "it: 17, stress tensor(55520136.)\n",
      "it: 18, stress tensor(54557404.)\n",
      "it: 19, stress tensor(53318952.)\n",
      "it: 20, stress tensor(51753464.)\n",
      "it: 21, stress tensor(49816728.)\n",
      "it: 22, stress tensor(47483600.)\n",
      "it: 23, stress tensor(44763264.)\n",
      "it: 24, stress tensor(41688472.)\n",
      "it: 25, stress tensor(38338508.)\n",
      "it: 26, stress tensor(34822256.)\n",
      "it: 27, stress tensor(31263840.)\n",
      "it: 28, stress tensor(27777156.)\n",
      "it: 29, stress tensor(24468490.)\n",
      "it: 30, stress tensor(21409562.)\n",
      "it: 31, stress tensor(18643764.)\n",
      "it: 32, stress tensor(16199121.)\n",
      "it: 33, stress tensor(14076434.)\n",
      "it: 34, stress tensor(12268317.)\n",
      "it: 35, stress tensor(10739054.)\n",
      "it: 36, stress tensor(9445899.)\n",
      "it: 37, stress tensor(8346229.5000)\n",
      "it: 38, stress tensor(7395830.)\n",
      "it: 39, stress tensor(6566177.)\n",
      "it: 40, stress tensor(5833152.)\n",
      "it: 41, stress tensor(5176415.5000)\n",
      "it: 42, stress tensor(4586195.5000)\n",
      "it: 43, stress tensor(4052521.5000)\n",
      "it: 44, stress tensor(3569152.7500)\n",
      "it: 45, stress tensor(3132763.7500)\n",
      "it: 46, stress tensor(2739110.)\n",
      "it: 47, stress tensor(2383462.)\n",
      "it: 48, stress tensor(2061311.5000)\n",
      "it: 49, stress tensor(1769695.)\n",
      "it: 50, stress tensor(1508542.)\n",
      "it: 51, stress tensor(1278380.)\n",
      "it: 52, stress tensor(1078998.8750)\n",
      "it: 53, stress tensor(908628.1875)\n",
      "it: 54, stress tensor(764988.8750)\n",
      "it: 55, stress tensor(644191.8750)\n"
     ]
    },
    {
     "name": "stdout",
     "output_type": "stream",
     "text": [
      "it: 56, stress tensor(541518.1875)\n",
      "it: 57, stress tensor(452872.)\n",
      "it: 58, stress tensor(376175.2188)\n",
      "it: 59, stress tensor(310863.7812)\n",
      "it: 60, stress tensor(256845.8750)\n",
      "it: 61, stress tensor(212857.8438)\n",
      "it: 62, stress tensor(176379.0312)\n",
      "it: 63, stress tensor(145054.8281)\n",
      "it: 64, stress tensor(117635.3281)\n",
      "it: 65, stress tensor(93603.6562)\n",
      "it: 66, stress tensor(72578.3516)\n",
      "it: 67, stress tensor(54375.6445)\n",
      "it: 68, stress tensor(39268.5977)\n",
      "it: 69, stress tensor(27791.6758)\n",
      "it: 70, stress tensor(19733.7305)\n",
      "it: 71, stress tensor(14250.8281)\n",
      "it: 72, stress tensor(10453.1328)\n",
      "it: 73, stress tensor(7750.4888)\n",
      "it: 74, stress tensor(5796.1113)\n",
      "it: 75, stress tensor(4369.4419)\n",
      "it: 76, stress tensor(3320.5413)\n",
      "it: 77, stress tensor(2545.1284)\n",
      "it: 78, stress tensor(1967.3381)\n",
      "it: 79, stress tensor(1533.1814)\n",
      "it: 80, stress tensor(1204.3645)\n",
      "it: 81, stress tensor(953.3463)\n",
      "it: 82, stress tensor(759.7357)\n",
      "it: 83, stress tensor(609.3867)\n",
      "it: 84, stress tensor(491.7586)\n",
      "it: 85, stress tensor(398.8560)\n",
      "it: 86, stress tensor(325.0139)\n",
      "it: 87, stress tensor(266.0739)\n",
      "it: 88, stress tensor(218.6211)\n",
      "it: 89, stress tensor(180.2134)\n",
      "it: 90, stress tensor(149.0632)\n",
      "it: 91, stress tensor(123.6306)\n",
      "it: 92, stress tensor(102.7792)\n",
      "it: 93, stress tensor(85.6342)\n",
      "it: 94, stress tensor(71.5227)\n",
      "it: 95, stress tensor(59.8358)\n",
      "it: 96, stress tensor(50.1439)\n",
      "it: 97, stress tensor(42.0887)\n",
      "it: 98, stress tensor(35.3860)\n",
      "it: 99, stress tensor(29.7879)\n",
      "it: 100, stress tensor(25.1067)\n",
      "it: 101, stress tensor(21.1875)\n",
      "it: 102, stress tensor(17.9013)\n",
      "it: 103, stress tensor(15.1398)\n",
      "it: 104, stress tensor(12.8169)\n",
      "it: 105, stress tensor(10.8616)\n",
      "it: 106, stress tensor(9.2127)\n",
      "it: 107, stress tensor(7.8207)\n",
      "it: 108, stress tensor(6.6442)\n",
      "it: 109, stress tensor(5.6496)\n",
      "it: 110, stress tensor(4.8073)\n",
      "it: 111, stress tensor(4.0932)\n",
      "it: 112, stress tensor(3.4877)\n",
      "it: 113, stress tensor(2.9738)\n",
      "it: 114, stress tensor(2.5374)\n",
      "it: 115, stress tensor(2.1660)\n",
      "it: 116, stress tensor(1.8502)\n",
      "it: 117, stress tensor(1.5813)\n",
      "it: 118, stress tensor(1.3523)\n",
      "it: 119, stress tensor(1.1569)\n",
      "it: 120, stress tensor(0.9902)\n",
      "it: 121, stress tensor(0.8480)\n",
      "it: 122, stress tensor(0.7266)\n",
      "it: 123, stress tensor(0.6228)\n",
      "it: 124, stress tensor(0.5341)\n",
      "it: 125, stress tensor(0.4582)\n",
      "it: 126, stress tensor(0.3933)\n",
      "it: 127, stress tensor(0.3377)\n",
      "it: 128, stress tensor(0.2900)\n",
      "it: 129, stress tensor(0.2492)\n",
      "it: 130, stress tensor(0.2142)\n",
      "it: 131, stress tensor(0.1842)\n",
      "it: 132, stress tensor(0.1584)\n",
      "it: 133, stress tensor(0.1363)\n",
      "it: 134, stress tensor(0.1173)\n",
      "it: 135, stress tensor(0.1010)\n",
      "it: 136, stress tensor(0.0870)\n",
      "it: 137, stress tensor(0.0750)\n",
      "it: 138, stress tensor(0.0646)\n",
      "it: 139, stress tensor(0.0557)\n",
      "it: 140, stress tensor(0.0481)\n",
      "it: 141, stress tensor(0.0415)\n",
      "it: 142, stress tensor(0.0358)\n",
      "it: 143, stress tensor(0.0309)\n",
      "it: 144, stress tensor(0.0267)\n",
      "it: 145, stress tensor(0.0231)\n",
      "it: 146, stress tensor(0.0200)\n",
      "breaking at iteration 146 with stress tensor(0.0200)\n",
      "it: 0, stress tensor(1.4251e+08)\n",
      "it: 1, stress tensor(70374272.)\n",
      "it: 2, stress tensor(64596448.)\n",
      "it: 3, stress tensor(61598540.)\n",
      "it: 4, stress tensor(60074320.)\n",
      "it: 5, stress tensor(59281032.)\n",
      "it: 6, stress tensor(58842780.)\n",
      "it: 7, stress tensor(58585972.)\n",
      "it: 8, stress tensor(58417064.)\n",
      "it: 9, stress tensor(58285576.)\n",
      "it: 10, stress tensor(58161432.)\n",
      "it: 11, stress tensor(58024676.)\n",
      "it: 12, stress tensor(57858984.)\n",
      "it: 13, stress tensor(57644996.)\n",
      "it: 14, stress tensor(57362840.)\n",
      "it: 15, stress tensor(56986816.)\n",
      "it: 16, stress tensor(56485452.)\n",
      "it: 17, stress tensor(55821288.)\n",
      "it: 18, stress tensor(54950564.)\n",
      "it: 19, stress tensor(53828428.)\n",
      "it: 20, stress tensor(52411632.)\n",
      "it: 21, stress tensor(50668664.)\n",
      "it: 22, stress tensor(48590712.)\n",
      "it: 23, stress tensor(46203920.)\n",
      "it: 24, stress tensor(43566164.)\n",
      "it: 25, stress tensor(40771272.)\n",
      "it: 26, stress tensor(37931592.)\n",
      "it: 27, stress tensor(35154364.)\n",
      "it: 28, stress tensor(32514688.)\n",
      "it: 29, stress tensor(30040034.)\n",
      "it: 30, stress tensor(27739522.)\n",
      "it: 31, stress tensor(25596932.)\n",
      "it: 32, stress tensor(23590922.)\n",
      "it: 33, stress tensor(21693240.)\n",
      "it: 34, stress tensor(19880392.)\n",
      "it: 35, stress tensor(18134802.)\n",
      "it: 36, stress tensor(16452500.)\n",
      "it: 37, stress tensor(14830740.)\n",
      "it: 38, stress tensor(13280027.)\n",
      "it: 39, stress tensor(11817879.)\n",
      "it: 40, stress tensor(10454491.)\n",
      "it: 41, stress tensor(9194384.)\n",
      "it: 42, stress tensor(8042419.5000)\n",
      "it: 43, stress tensor(6993915.)\n",
      "it: 44, stress tensor(6050293.)\n",
      "it: 45, stress tensor(5205488.)\n",
      "it: 46, stress tensor(4452589.)\n",
      "it: 47, stress tensor(3786145.2500)\n",
      "it: 48, stress tensor(3198714.)\n",
      "it: 49, stress tensor(2686920.7500)\n",
      "it: 50, stress tensor(2246032.5000)\n",
      "it: 51, stress tensor(1870165.8750)\n",
      "it: 52, stress tensor(1552046.3750)\n",
      "it: 53, stress tensor(1284280.8750)\n",
      "it: 54, stress tensor(1059116.6250)\n",
      "it: 55, stress tensor(870428.5000)\n",
      "it: 56, stress tensor(713250.6250)\n",
      "it: 57, stress tensor(582678.5000)\n",
      "it: 58, stress tensor(473350.6250)\n",
      "it: 59, stress tensor(380806.7500)\n",
      "it: 60, stress tensor(302738.8750)\n",
      "it: 61, stress tensor(238110.9844)\n",
      "it: 62, stress tensor(186067.9219)\n",
      "it: 63, stress tensor(145241.7500)\n",
      "it: 64, stress tensor(113581.8750)\n",
      "it: 65, stress tensor(89138.4375)\n",
      "it: 66, stress tensor(70234.4062)\n",
      "it: 67, stress tensor(55527.5859)\n",
      "it: 68, stress tensor(44072.8984)\n",
      "it: 69, stress tensor(35100.4805)\n",
      "it: 70, stress tensor(28041.7812)\n",
      "it: 71, stress tensor(22492.0664)\n",
      "it: 72, stress tensor(18105.1562)\n",
      "it: 73, stress tensor(14616.4561)\n",
      "it: 74, stress tensor(11842.8105)\n",
      "it: 75, stress tensor(9631.1748)\n",
      "it: 76, stress tensor(7853.0664)\n",
      "it: 77, stress tensor(6422.0552)\n",
      "it: 78, stress tensor(5271.0020)\n",
      "it: 79, stress tensor(4338.0479)\n",
      "it: 80, stress tensor(3577.1526)\n",
      "it: 81, stress tensor(2958.4585)\n",
      "it: 82, stress tensor(2453.3574)\n",
      "it: 83, stress tensor(2038.3204)\n",
      "it: 84, stress tensor(1696.4160)\n",
      "it: 85, stress tensor(1415.3040)\n",
      "it: 86, stress tensor(1183.2314)\n",
      "it: 87, stress tensor(990.5344)\n",
      "it: 88, stress tensor(830.6019)\n",
      "it: 89, stress tensor(697.9152)\n",
      "it: 90, stress tensor(587.3151)\n",
      "it: 91, stress tensor(494.8249)\n",
      "it: 92, stress tensor(417.4982)\n",
      "it: 93, stress tensor(352.8254)\n",
      "it: 94, stress tensor(298.5252)\n",
      "it: 95, stress tensor(252.8069)\n",
      "it: 96, stress tensor(214.3447)\n",
      "it: 97, stress tensor(181.9653)\n",
      "it: 98, stress tensor(154.6168)\n",
      "it: 99, stress tensor(131.4684)\n",
      "it: 100, stress tensor(111.8756)\n",
      "it: 101, stress tensor(95.3010)\n",
      "it: 102, stress tensor(81.2337)\n",
      "it: 103, stress tensor(69.2779)\n",
      "it: 104, stress tensor(59.1104)\n",
      "it: 105, stress tensor(50.4759)\n",
      "it: 106, stress tensor(43.1278)\n",
      "it: 107, stress tensor(36.8616)\n",
      "it: 108, stress tensor(31.5182)\n",
      "it: 109, stress tensor(26.9635)\n",
      "it: 110, stress tensor(23.0811)\n",
      "it: 111, stress tensor(19.7626)\n",
      "it: 112, stress tensor(16.9265)\n",
      "it: 113, stress tensor(14.5022)\n",
      "it: 114, stress tensor(12.4318)\n",
      "it: 115, stress tensor(10.6602)\n",
      "it: 116, stress tensor(9.1429)\n",
      "it: 117, stress tensor(7.8435)\n",
      "it: 118, stress tensor(6.7312)\n",
      "it: 119, stress tensor(5.7787)\n",
      "it: 120, stress tensor(4.9619)\n",
      "it: 121, stress tensor(4.2613)\n",
      "it: 122, stress tensor(3.6604)\n",
      "it: 123, stress tensor(3.1453)\n",
      "it: 124, stress tensor(2.7033)\n",
      "it: 125, stress tensor(2.3237)\n",
      "it: 126, stress tensor(1.9976)\n",
      "it: 127, stress tensor(1.7178)\n",
      "it: 128, stress tensor(1.4774)\n",
      "it: 129, stress tensor(1.2709)\n",
      "it: 130, stress tensor(1.0934)\n",
      "it: 131, stress tensor(0.9407)\n",
      "it: 132, stress tensor(0.8096)\n",
      "it: 133, stress tensor(0.6969)\n",
      "it: 134, stress tensor(0.5999)\n",
      "it: 135, stress tensor(0.5165)\n",
      "it: 136, stress tensor(0.4447)\n",
      "it: 137, stress tensor(0.3829)\n",
      "it: 138, stress tensor(0.3298)\n",
      "it: 139, stress tensor(0.2841)\n",
      "it: 140, stress tensor(0.2447)\n",
      "it: 141, stress tensor(0.2109)\n",
      "it: 142, stress tensor(0.1817)\n",
      "it: 143, stress tensor(0.1566)\n",
      "it: 144, stress tensor(0.1350)\n",
      "it: 145, stress tensor(0.1163)\n",
      "it: 146, stress tensor(0.1003)\n",
      "it: 147, stress tensor(0.0865)\n",
      "it: 148, stress tensor(0.0746)\n",
      "it: 149, stress tensor(0.0643)\n",
      "it: 150, stress tensor(0.0555)\n",
      "it: 151, stress tensor(0.0479)\n",
      "it: 152, stress tensor(0.0413)\n",
      "it: 153, stress tensor(0.0357)\n",
      "it: 154, stress tensor(0.0308)\n",
      "it: 155, stress tensor(0.0266)\n",
      "it: 156, stress tensor(0.0230)\n",
      "it: 157, stress tensor(0.0199)\n",
      "breaking at iteration 157 with stress tensor(0.0199)\n"
     ]
    }
   ],
   "source": [
    "pred, stress = MDScaling(distogram, iters=200, tol=1e-5,\n",
    "                         fix_mirror=3, N_mask=N_mask, CA_mask=CA_mask)"
   ]
  },
  {
   "cell_type": "code",
   "execution_count": 21,
   "metadata": {},
   "outputs": [
    {
     "name": "stdout",
     "output_type": "stream",
     "text": [
      "rmsd is:  [3.7103262e-05]\n",
      "gdt_ha is:  [1.]\n",
      "gdt_ts is:  [1.]\n",
      "tm_score is:  [1.]\n"
     ]
    }
   ],
   "source": [
    "# check realignment works\n",
    "pred_mod, prot_mod = Kabsch(pred.numpy(), prot.numpy())\n",
    "# measure\n",
    "rmsd     = RMSD(prot_mod, pred_mod)\n",
    "gdt_ha   = GDT(prot_mod, pred_mod, mode=\"HA\")\n",
    "gdt_ts   = GDT(prot_mod, pred_mod, mode=\"TS\")\n",
    "tm_score = TMscore(prot_mod, pred_mod)\n",
    "\n",
    "print(\"rmsd is: \", rmsd)\n",
    "print(\"gdt_ha is: \", gdt_ha)\n",
    "print(\"gdt_ts is: \", gdt_ts)\n",
    "print(\"tm_score is: \", tm_score)"
   ]
  },
  {
   "cell_type": "markdown",
   "metadata": {},
   "source": [
    "## See reconstruction"
   ]
  },
  {
   "cell_type": "code",
   "execution_count": 22,
   "metadata": {},
   "outputs": [],
   "source": [
    "new_distogram = torch.cdist(pred.t(), pred.t())\n",
    "delta_dist    = new_distogram-distogram"
   ]
  },
  {
   "cell_type": "code",
   "execution_count": 23,
   "metadata": {},
   "outputs": [
    {
     "name": "stdout",
     "output_type": "stream",
     "text": [
      "Diffs: max = 0.004259645938873291 and min -0.005857259035110474\n"
     ]
    },
    {
     "data": {
      "image/png": "[encoded data removed]",
      "text/plain": [
       "<Figure size 648x216 with 3 Axes>"
      ]
     },
     "metadata": {
      "needs_background": "light"
     },
     "output_type": "display_data"
    }
   ],
   "source": [
    "fig, ax = plt.subplots(1,3,figsize=(9, 3), sharey=True)\n",
    "cmap = plt.get_cmap(\"viridis_r\")\n",
    "\n",
    "ax[0].set_title(\"Original\")\n",
    "ax[0].imshow(distogram, cmap=\"viridis_r\")\n",
    "ax[1].set_title(\"Reconstructed\")\n",
    "ax[1].imshow(new_distogram, cmap=\"viridis_r\")\n",
    "ax[2].set_title(\"Difference\")\n",
    "ax[2].imshow(delta_dist, cmap=\"viridis_r\")\n",
    "\n",
    "\n",
    "print(\"Diffs: max = {0} and min {1}\".format(np.amax(delta_dist.numpy()),\n",
    "                                            np.amin(delta_dist.numpy()) ))"
   ]
  },
  {
   "cell_type": "code",
   "execution_count": 24,
   "metadata": {},
   "outputs": [],
   "source": [
    "# save pdb file and check manually here: \n",
    "# https://molstar.org/viewer/\n",
    "buffer_save = mdtraj.load(\"data/1h22_protein.pdb\")\n",
    "buffer_save.xyz = pred_mod.T[None, :, :]\n",
    "buffer_save.save(\"data/save_to_check.pdb\")"
   ]
  },
  {
   "cell_type": "code",
   "execution_count": 25,
   "metadata": {},
   "outputs": [],
   "source": [
    "# save pdb file and check manually here: \n",
    "# https://molstar.org/viewer/\n",
    "buffer_save = mdtraj.load(\"data/1h22_protein.pdb\")\n",
    "buffer_save.xyz = prot_mod.T[None, :, :]\n",
    "buffer_save.save(\"data/save_to_check_base.pdb\")"
   ]
  },
  {
   "cell_type": "markdown",
   "metadata": {},
   "source": [
    "Legend:\n",
    "* blue/purple: reference\n",
    "* green/orange: our reconstruction\n",
    "\n",
    "Comments: only small blue detail on the left. increase match by decreasing tolerance"
   ]
  },
  {
   "cell_type": "markdown",
   "metadata": {},
   "source": [
    "<img src=\"data/comparison.png\">"
   ]
  },
  {
   "cell_type": "code",
   "execution_count": 6,
   "metadata": {},
   "outputs": [],
   "source": [
    "raw = mdtraj.load_pdb(\"data/1h22_protein.pdb\")"
   ]
  },
  {
   "cell_type": "code",
   "execution_count": 21,
   "metadata": {},
   "outputs": [],
   "source": [
    "def clean_pdb(name, route=None, chain_num=None):\n",
    "    \"\"\" Cleans the structure to only leave the important part.\n",
    "        Inputs: \n",
    "        * name: str. route of the input .pdb file\n",
    "        * route: str. route of the output. will overwrite input if not provided\n",
    "        * chain_num: int. index of chain to select (1-indexed as pdb files)\n",
    "        Output: route of destin file.\n",
    "    \"\"\"\n",
    "    destin = route if route is not None else name\n",
    "    # read input\n",
    "    raw_prot = mdtraj.load_pdb(name)\n",
    "    # iterate over prot and select the specified chains\n",
    "    idxs = []\n",
    "    for chain in raw_prot.topology.chains:\n",
    "        # if arg passed, only select that chain\n",
    "        if chain_num is not None:\n",
    "            if chain_num != chain.index:\n",
    "                continue\n",
    "        # select indexes of chain\n",
    "        chain_idxs = raw_prot.topology.select(\"chainid == {0}\".format(chain.index))\n",
    "        idxs.extend( chain_idxs.tolist() )\n",
    "    # sort: topology and xyz selection are ordered\n",
    "    idxs = sorted(idxs)\n",
    "    # get new trajectory from the sleected subset of indexes and save\n",
    "    prot = mdtraj.Trajectory(xyz=raw_prot.xyz[:, idxs], \n",
    "                             topology=raw_prot.topology.subset(idxs))\n",
    "    prot.save(destin)\n",
    "    return destin"
   ]
  },
  {
   "cell_type": "code",
   "execution_count": 23,
   "metadata": {},
   "outputs": [
    {
     "data": {
      "text/plain": [
       "'data/1h22_protein_chain_1.pdb'"
      ]
     },
     "execution_count": 23,
     "metadata": {},
     "output_type": "execute_result"
    }
   ],
   "source": [
    "clean_pdb(\"data/1h22_protein.pdb\", \"data/1h22_protein_chain_1.pdb\", 0)"
   ]
  },
  {
   "cell_type": "code",
   "execution_count": null,
   "metadata": {},
   "outputs": [],
   "source": []
  },
  {
   "cell_type": "code",
   "execution_count": null,
   "metadata": {},
   "outputs": [],
   "source": []
  },
  {
   "cell_type": "code",
   "execution_count": null,
   "metadata": {},
   "outputs": [],
   "source": []
  },
  {
   "cell_type": "code",
   "execution_count": null,
   "metadata": {},
   "outputs": [],
   "source": []
  },
  {
   "cell_type": "code",
   "execution_count": null,
   "metadata": {},
   "outputs": [],
   "source": []
  },
  {
   "cell_type": "code",
   "execution_count": null,
   "metadata": {},
   "outputs": [],
   "source": []
  }
 ],
 "metadata": {
  "kernelspec": {
   "display_name": "Python 3",
   "language": "python",
   "name": "python3"
  },
  "language_info": {
   "codemirror_mode": {
    "name": "ipython",
    "version": 3
   },
   "file_extension": ".py",
   "mimetype": "text/x-python",
   "name": "python",
   "nbconvert_exporter": "python",
   "pygments_lexer": "ipython3",
   "version": "3.7.9"
  }
 },
 "nbformat": 4,
 "nbformat_minor": 4
}
